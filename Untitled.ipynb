{
 "cells": [
  {
   "cell_type": "code",
   "execution_count": 3,
   "id": "dd3e5ae2",
   "metadata": {},
   "outputs": [
    {
     "name": "stdout",
     "output_type": "stream",
     "text": [
      "0    1\n",
      "1    2\n",
      "2   -3\n",
      "3    4\n",
      "dtype: int64\n"
     ]
    }
   ],
   "source": [
    "import pandas as pd\n",
    "k=pd.Series([1,2,-3,4])\n",
    "print(k)"
   ]
  },
  {
   "cell_type": "code",
   "execution_count": 19,
   "id": "9157fbf0",
   "metadata": {},
   "outputs": [
    {
     "name": "stdout",
     "output_type": "stream",
     "text": [
      "      a  b  c\n",
      "0  4401  a  3\n",
      "1  4402  b  4\n",
      "2  4403  c  7\n",
      "3  4404  d  1\n",
      "a    4402\n",
      "b       b\n",
      "c       4\n",
      "Name: 1, dtype: object\n"
     ]
    }
   ],
   "source": [
    "import pandas as pd\n",
    "k=pd.DataFrame({'a': [ 4401,4402,4403,4404],\n",
    "               'b':['a','b','c','d'],\n",
    "               'c':[3,4,7,1]})\n",
    "print(k)\n",
    "k1=k.loc[1]\n",
    "print(k1)"
   ]
  },
  {
   "cell_type": "code",
   "execution_count": 28,
   "id": "882a49af",
   "metadata": {},
   "outputs": [
    {
     "name": "stdout",
     "output_type": "stream",
     "text": [
      "0     blue\n",
      "2      red\n",
      "4    black\n",
      "dtype: object\n",
      "0     blue\n",
      "1      red\n",
      "2      red\n",
      "3    black\n",
      "4    black\n",
      "5      NaN\n",
      "dtype: object\n"
     ]
    }
   ],
   "source": [
    "o=pd.Series(['blue','red','black'],index=[0,2,4])\n",
    "print(o)\n",
    "o1=o.reindex(range(6),method='bfill')\n",
    "print(o1)"
   ]
  },
  {
   "cell_type": "code",
   "execution_count": 33,
   "id": "3ccc1d49",
   "metadata": {},
   "outputs": [
    {
     "name": "stdout",
     "output_type": "stream",
     "text": [
      "0    3.0\n",
      "1    7.0\n",
      "2    3.0\n",
      "3    8.0\n",
      "4    9.0\n",
      "5    3.0\n",
      "6    3.0\n",
      "7    3.0\n",
      "8    6.0\n",
      "dtype: float64\n"
     ]
    }
   ],
   "source": [
    "o=pd.Series([-4,5,-4,6,9,-4,-4,-4,0])\n",
    "o1=o.rank()\n",
    "print(o1)"
   ]
  },
  {
   "cell_type": "code",
   "execution_count": 40,
   "id": "f0614212",
   "metadata": {},
   "outputs": [
    {
     "name": "stdout",
     "output_type": "stream",
     "text": [
      "     a  b\n",
      "0  108  3\n",
      "1  101  4\n",
      "2  102  1\n",
      "3  103  2\n",
      "     a    b\n",
      "0  4.0  3.0\n",
      "1  1.0  4.0\n",
      "2  2.0  1.0\n",
      "3  3.0  2.0\n"
     ]
    }
   ],
   "source": [
    "f=pd.DataFrame({'a':[108,101,102,103],'b':[3,4,1,2]})\n",
    "print(f)\n",
    "f1=f.rank()\n",
    "print(f1)"
   ]
  },
  {
   "cell_type": "code",
   "execution_count": 7,
   "id": "f457fe00",
   "metadata": {},
   "outputs": [
    {
     "name": "stdout",
     "output_type": "stream",
     "text": [
      "     a    b\n",
      "0 -3.0  NaN\n",
      "1  2.0  5.0\n",
      "2  NaN  NaN\n",
      "3  7.0  1.0\n",
      "4  NaN  3.0\n",
      "       a      b\n",
      "0   -3.0  False\n",
      "1    2.0    5.0\n",
      "2  False  False\n",
      "3    7.0    1.0\n",
      "4  False    3.0\n"
     ]
    }
   ],
   "source": [
    "import pandas as pd\n",
    "import numpy as np\n",
    "a=pd.DataFrame([[-3,np.nan],[2,5],[np.nan,np.nan],[7,1],[np.nan,3]],columns=['a','b'])\n",
    "print(a)\n",
    "b=a.fillna()\n",
    "print(b)"
   ]
  },
  {
   "cell_type": "code",
   "execution_count": 1,
   "id": "fb7d462d",
   "metadata": {},
   "outputs": [
    {
     "data": {
      "image/png": "[encoded data removed]",
      "text/plain": [
       "<Figure size 432x288 with 1 Axes>"
      ]
     },
     "metadata": {
      "needs_background": "light"
     },
     "output_type": "display_data"
    }
   ],
   "source": [
    "import matplotlib.pyplot as plt\n",
    "import numpy as np\n",
    "x=np.array([0,6])\n",
    "y=np.array([10,30])\n",
    "plt.title('lineplot')\n",
    "plt.plot(x,y)\n",
    "plt.show()"
   ]
  },
  {
   "cell_type": "code",
   "execution_count": null,
   "id": "b53f3db6",
   "metadata": {},
   "outputs": [],
   "source": []
  }
 ],
 "metadata": {
  "kernelspec": {
   "display_name": "Python 3",
   "language": "python",
   "name": "python3"
  },
  "language_info": {
   "codemirror_mode": {
    "name": "ipython",
    "version": 3
   },
   "file_extension": ".py",
   "mimetype": "text/x-python",
   "name": "python",
   "nbconvert_exporter": "python",
   "pygments_lexer": "ipython3",
   "version": "3.8.8"
  }
 },
 "nbformat": 4,
 "nbformat_minor": 5
}
