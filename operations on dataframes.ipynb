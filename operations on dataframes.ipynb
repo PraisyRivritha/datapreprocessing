{
 "cells": [
  {
   "cell_type": "code",
   "execution_count": 7,
   "id": "91e05bf1",
   "metadata": {
    "scrolled": true
   },
   "outputs": [
    {
     "name": "stdout",
     "output_type": "stream",
     "text": [
      "     a    b\n",
      "1  3.0  NaN\n",
      "2  2.0  4.0\n",
      "3  NaN  6.0\n",
      "4  1.0  7.0\n"
     ]
    }
   ],
   "source": [
    "import pandas as pd\n",
    "import numpy as np\n",
    "a=pd.DataFrame([[3,np.nan],[2,4],[np.nan,6],[1,7]],index=[1,2,3,4],columns=['a','b'])\n",
    "print(a)"
   ]
  },
  {
   "cell_type": "code",
   "execution_count": 28,
   "id": "2fdc6659",
   "metadata": {},
   "outputs": [
    {
     "name": "stdout",
     "output_type": "stream",
     "text": [
      "     a    b     2\n",
      "1  3.0  NaN  None\n",
      "2  2.0  4.0  None\n",
      "3  NaN  6.0  None\n",
      "4  NaN  NaN  None\n"
     ]
    }
   ],
   "source": [
    "a.loc[4,: ]=None\n",
    "print(a)"
   ]
  },
  {
   "cell_type": "code",
   "execution_count": 13,
   "id": "9d149732",
   "metadata": {
    "scrolled": true
   },
   "outputs": [
    {
     "name": "stdout",
     "output_type": "stream",
     "text": [
      "1    3.0\n",
      "2    3.0\n",
      "3    6.0\n",
      "4    4.0\n",
      "dtype: float64\n"
     ]
    }
   ],
   "source": [
    "d=a.mean(skipna='False',axis=1)\n",
    "print(d)"
   ]
  },
  {
   "cell_type": "code",
   "execution_count": 14,
   "id": "2e5d8abc",
   "metadata": {},
   "outputs": [
    {
     "name": "stdout",
     "output_type": "stream",
     "text": [
      "1    3.0\n",
      "2    3.0\n",
      "3    6.0\n",
      "4    4.0\n",
      "dtype: float64\n"
     ]
    }
   ],
   "source": [
    "d=a.mean(axis=1)\n",
    "print(d)"
   ]
  },
  {
   "cell_type": "code",
   "execution_count": 21,
   "id": "29032b8c",
   "metadata": {},
   "outputs": [
    {
     "name": "stdout",
     "output_type": "stream",
     "text": [
      "     a     b\n",
      "1  3.0   NaN\n",
      "2  5.0   4.0\n",
      "3  NaN  10.0\n",
      "4  6.0  17.0\n"
     ]
    }
   ],
   "source": [
    "p=a.cumsum()\n",
    "print(p)"
   ]
  },
  {
   "cell_type": "code",
   "execution_count": 22,
   "id": "eb2e5ce7",
   "metadata": {},
   "outputs": [
    {
     "name": "stdout",
     "output_type": "stream",
     "text": [
      "       a      b\n",
      "1  False   True\n",
      "2  False  False\n",
      "3   True  False\n",
      "4  False  False\n"
     ]
    }
   ],
   "source": [
    "b=a.isnull()\n",
    "print(b)"
   ]
  },
  {
   "cell_type": "code",
   "execution_count": 39,
   "id": "4812352f",
   "metadata": {},
   "outputs": [
    {
     "name": "stdout",
     "output_type": "stream",
     "text": [
      "     a    b\n",
      "1  3.0  NaN\n",
      "2  2.0  4.0\n",
      "3  NaN  6.0\n",
      "4  1.0  7.0\n"
     ]
    }
   ],
   "source": [
    "a=pd.DataFrame([[3,np.nan],[2,4],[np.nan,6],[1,7]],index=[1,2,3,4],columns=['a','b'])\n",
    "print(a)"
   ]
  },
  {
   "cell_type": "code",
   "execution_count": 41,
   "id": "f6c7ad2d",
   "metadata": {},
   "outputs": [
    {
     "name": "stdout",
     "output_type": "stream",
     "text": [
      "     a    b\n",
      "1  3.0  NaN\n",
      "2  2.0  4.0\n",
      "3  NaN  6.0\n",
      "4  NaN  NaN\n"
     ]
    }
   ],
   "source": [
    "a.loc[4,:]=None\n",
    "print(a)"
   ]
  },
  {
   "cell_type": "code",
   "execution_count": 42,
   "id": "82f8a875",
   "metadata": {},
   "outputs": [
    {
     "name": "stdout",
     "output_type": "stream",
     "text": [
      "     a    b\n",
      "2  2.0  4.0\n"
     ]
    }
   ],
   "source": [
    "f=a.dropna()\n",
    "print(f)"
   ]
  },
  {
   "cell_type": "code",
   "execution_count": 44,
   "id": "123ecfcf",
   "metadata": {},
   "outputs": [
    {
     "name": "stdout",
     "output_type": "stream",
     "text": [
      "     a    b\n",
      "1  3.0  NaN\n",
      "2  2.0  4.0\n",
      "3  NaN  6.0\n"
     ]
    }
   ],
   "source": [
    "g=a.dropna(how='all')\n",
    "print(g)"
   ]
  },
  {
   "cell_type": "code",
   "execution_count": 9,
   "id": "71530951",
   "metadata": {},
   "outputs": [
    {
     "name": "stdout",
     "output_type": "stream",
     "text": [
      "     a    b\n",
      "1  3.0  NaN\n",
      "2  9.0  4.0\n",
      "3  NaN  2.0\n",
      "4  1.0  7.0\n",
      "     a    b\n",
      "1  2.0  NaN\n",
      "2  3.0  2.0\n",
      "3  NaN  1.0\n",
      "4  1.0  3.0\n"
     ]
    }
   ],
   "source": [
    "import pandas as pd\n",
    "import numpy as np\n",
    "a=pd.DataFrame([[3,np.nan],[9,4],[np.nan,2],[1,7]],index=[1,2,3,4],columns=['a','b'])\n",
    "print(a)\n",
    "b=a.rank(method='first')\n",
    "print(b)\n",
    "pd.readtable"
   ]
  },
  {
   "cell_type": "code",
   "execution_count": 18,
   "id": "4497c5ae",
   "metadata": {},
   "outputs": [
    {
     "name": "stdout",
     "output_type": "stream",
     "text": [
      "[  name  score\n",
      "0  ip1     32\n",
      "1  ip2     64\n",
      "2  ip3     11,   name  score\n",
      "0  pp1     98\n",
      "1  pp2     31\n",
      "2  pp3      8]\n",
      "  name  score location\n",
      "0  ip1     32        h\n",
      "1  ip2     64        y\n",
      "2  ip3     11        d\n",
      "  name  score location\n",
      "0  ip1     32        h\n",
      "1  ip2     64        y\n",
      "2  ip3     11        d\n",
      "0  pp1     98      NaN\n",
      "1  pp2     31      NaN\n",
      "2  pp3      8      NaN\n",
      "None\n"
     ]
    }
   ],
   "source": [
    "import pandas as pd\n",
    "import numpy as np\n",
    "ind=pd.DataFrame({'name':['ip1','ip2','ip3'],'score':[32,64,11]})\n",
    "pak=pd.DataFrame({'name':['pp1','pp2','pp3'],'score':[98,31,8]})\n",
    "df1=[ind,pak]\n",
    "print(df1)\n",
    "place=['h','y','d']\n",
    "ind['location']=place\n",
    "print(ind)\n",
    "df2=pd.concat(df1)\n",
    "print(df2)\n",
    "df3=df2['location'].fillna('updatesoon',inplace=True)\n",
    "print(df3)"
   ]
  },
  {
   "cell_type": "code",
   "execution_count": 19,
   "id": "7a664cb2",
   "metadata": {},
   "outputs": [
    {
     "name": "stdout",
     "output_type": "stream",
     "text": [
      "None\n"
     ]
    }
   ],
   "source": [
    "df3=df2['location'].fillna('updatesoon',inplace=True)\n",
    "print(df3)"
   ]
  },
  {
   "cell_type": "code",
   "execution_count": 20,
   "id": "f05378d6",
   "metadata": {},
   "outputs": [
    {
     "name": "stdout",
     "output_type": "stream",
     "text": [
      "0             h\n",
      "1             y\n",
      "2             d\n",
      "0    updatesoon\n",
      "1    updatesoon\n",
      "2    updatesoon\n",
      "Name: location, dtype: object\n"
     ]
    }
   ],
   "source": [
    "df3=df2['location'].fillna('updatesoon',inplace=False)\n",
    "print(df3)"
   ]
  },
  {
   "cell_type": "code",
   "execution_count": 27,
   "id": "bd29b7f7",
   "metadata": {},
   "outputs": [
    {
     "name": "stdout",
     "output_type": "stream",
     "text": [
      "  name  score    location\n",
      "2  ip3     11           d\n",
      "0  ip1     32           h\n",
      "0  pp1     98  updatesoon\n",
      "1  pp2     31  updatesoon\n",
      "2  pp3      8  updatesoon\n",
      "1  ip2     64           y\n"
     ]
    }
   ],
   "source": [
    "import pandas as pd\n",
    "df4=df2.sort_values('location')\n",
    "print(df4)"
   ]
  },
  {
   "cell_type": "code",
   "execution_count": null,
   "id": "36513b1c",
   "metadata": {},
   "outputs": [],
   "source": []
  }
 ],
 "metadata": {
  "kernelspec": {
   "display_name": "Python 3",
   "language": "python",
   "name": "python3"
  },
  "language_info": {
   "codemirror_mode": {
    "name": "ipython",
    "version": 3
   },
   "file_extension": ".py",
   "mimetype": "text/x-python",
   "name": "python",
   "nbconvert_exporter": "python",
   "pygments_lexer": "ipython3",
   "version": "3.8.8"
  }
 },
 "nbformat": 4,
 "nbformat_minor": 5
}
